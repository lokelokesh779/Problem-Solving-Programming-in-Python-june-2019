{
 "cells": [
  {
   "cell_type": "code",
   "execution_count": 8,
   "metadata": {},
   "outputs": [
    {
     "data": {
      "text/plain": [
       "['A', 'A', 'A', 'A']"
      ]
     },
     "execution_count": 8,
     "metadata": {},
     "output_type": "execute_result"
    }
   ],
   "source": [
    "#Function to Toggle String Characters\n",
    "\n",
    "\n",
    "s=\"AAAA\"\n",
    "\n",
    "s.isupper()\n",
    "s1=s.lower()\n",
    "#print(s1)\n",
    "list(s)\n",
    "\n",
    "\n",
    "\n"
   ]
  },
  {
   "cell_type": "code",
   "execution_count": 30,
   "metadata": {},
   "outputs": [
    {
     "name": "stdout",
     "output_type": "stream",
     "text": [
      "abCdGFD\n",
      "ABcDgfd\n"
     ]
    }
   ],
   "source": [
    "s=input()\n",
    "def toggleString():\n",
    "    #convert the string into list of characters\n",
    "    \n",
    "    t=\"\"\n",
    "    for c in s:\n",
    "        if c.isupper():\n",
    "            t+=c.lower()\n",
    "        else:\n",
    "            t+=c.upper()\n",
    "    print(t)\n",
    "\n",
    "\n",
    "toggleString()\n",
    "    \n",
    "    "
   ]
  },
  {
   "cell_type": "code",
   "execution_count": 38,
   "metadata": {},
   "outputs": [
    {
     "name": "stdout",
     "output_type": "stream",
     "text": [
      "2\n",
      "1 44 2 13\n",
      "0 29\n",
      "5 13 9 24\n",
      "4 11\n"
     ]
    }
   ],
   "source": [
    "#Rahul is a very busy persion he dont wan't to waste his time . He keeps account of duration of each and every work. Now he don't even get time to calculate duration of works, So your job is to count the durations for each work and give it to rahul.\n",
    "\n",
    " \n",
    "\n",
    "#Input:\n",
    "\n",
    "#First line will be given by N number of works\n",
    "#Next N line will be given SH,SM,EH and EM  each separated by space(SH=starting hr, SM=starting min, EH=ending hr, EM=ending min\n",
    "\n",
    "#HH -{00,23}-{00 00,23 59}\n",
    "#MM-{00,59}\n",
    "#Output:\n",
    "\n",
    "#N lines with duration HH MM(hours and minutes separated by space)\n",
    "\n",
    "\n",
    "\n",
    "s= \"2 42 8 23\"\n",
    "def minuteDifference(s):\n",
    "    s=s.split()\n",
    "    sh=int(s[0])\n",
    "    sm=int(s[1])\n",
    "    eh=int(s[2])\n",
    "    em=int(s[3])\n",
    "    startminutes=sh*60+sm\n",
    "    endminutes=eh*60+em\n",
    "    return endminutes-startminutes\n",
    "\n",
    "def outputTimeFormat(minutes):\n",
    "    #Covert minutes into HH MM\n",
    "    hh=minutes//60\n",
    "    mm=minutes%60\n",
    "    print(hh,mm)\n",
    "    \n",
    "    return \n",
    "n=int(input())\n",
    "\n",
    "for i in range(0,n):\n",
    "    s=input()\n",
    "    minutes=minuteDifference(s)\n",
    "    outputTimeFormat(minutes)\n",
    "\n",
    "\n",
    "\n"
   ]
  },
  {
   "cell_type": "code",
   "execution_count": null,
   "metadata": {},
   "outputs": [],
   "source": [
    "# Play with numbers\n",
    "\n",
    "#line 1  n.of elements,queries\n",
    "#line 2 list of elements\n",
    "#line 3 queries\n",
    "\n",
    "\n",
    "def playWithNumbers():\n",
    "    "
   ]
  },
  {
   "cell_type": "code",
   "execution_count": 12,
   "metadata": {},
   "outputs": [
    {
     "name": "stdout",
     "output_type": "stream",
     "text": [
      "2\n",
      "3\n",
      "NO\n",
      "5\n",
      "NO\n"
     ]
    }
   ],
   "source": [
    "#Function to define a number which is equal to sum of factors\n",
    "\n",
    "\n",
    "\n",
    "def sumOfFactors(t):\n",
    "    for t in range(1,t+1):\n",
    "        sum=0\n",
    "        n=int(input())\n",
    "\n",
    "        for i in range(1,n):\n",
    "            if n%i==0:\n",
    "                sum=sum+i\n",
    "        if sum==n:\n",
    "            print(\"YES\")\n",
    "        else:\n",
    "            print(\"NO\")\n",
    "                \n",
    "             \n",
    "                \n",
    "t=int(input())\n",
    "sumOfFactors(t)\n",
    "    \n",
    "\n",
    "        \n",
    "        "
   ]
  },
  {
   "cell_type": "code",
   "execution_count": 51,
   "metadata": {},
   "outputs": [
    {
     "name": "stdout",
     "output_type": "stream",
     "text": [
      "lokesh123$$\n",
      "11\n",
      "6\n",
      "3\n",
      "2\n"
     ]
    }
   ],
   "source": [
    "#Function to define number of alphabets and number of digits\n",
    "\n",
    "\n",
    "def alphaNumbers(s):\n",
    "    l=len(s)\n",
    "    alpha=0\n",
    "    number=0\n",
    "    spcl=0\n",
    "    print(l)\n",
    "    for i in range(0,l):\n",
    "        if s[i].isalpha():\n",
    "            alpha=alpha+1\n",
    "        elif s[i].isdigit():\n",
    "            number=number+1\n",
    "        else:\n",
    "            spcl=spcl+1\n",
    "        \n",
    "    print(alpha)\n",
    "    print(number)\n",
    "    print(spcl)\n",
    "\n",
    "s=input()\n",
    "alphaNumbers(s)\n",
    "\n",
    "        \n",
    "    \n",
    "    \n",
    "    \n"
   ]
  },
  {
   "cell_type": "code",
   "execution_count": 65,
   "metadata": {},
   "outputs": [
    {
     "name": "stdout",
     "output_type": "stream",
     "text": [
      "7\n"
     ]
    },
    {
     "data": {
      "text/plain": [
       "True"
      ]
     },
     "execution_count": 65,
     "metadata": {},
     "output_type": "execute_result"
    }
   ],
   "source": [
    "def isPrime(n):\n",
    "    for i in range(2,n):\n",
    "        if n%i==0:\n",
    "            return False\n",
    "        return True\n",
    "        \n",
    "n=int(input())       \n",
    "isPrime(n)"
   ]
  },
  {
   "cell_type": "code",
   "execution_count": null,
   "metadata": {},
   "outputs": [],
   "source": [
    "def "
   ]
  }
 ],
 "metadata": {
  "kernelspec": {
   "display_name": "Python 3",
   "language": "python",
   "name": "python3"
  },
  "language_info": {
   "codemirror_mode": {
    "name": "ipython",
    "version": 3
   },
   "file_extension": ".py",
   "mimetype": "text/x-python",
   "name": "python",
   "nbconvert_exporter": "python",
   "pygments_lexer": "ipython3",
   "version": "3.7.3"
  }
 },
 "nbformat": 4,
 "nbformat_minor": 2
}
