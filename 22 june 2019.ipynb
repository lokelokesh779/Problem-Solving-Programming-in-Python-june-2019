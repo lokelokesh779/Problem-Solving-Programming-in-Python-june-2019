{
 "cells": [
  {
   "cell_type": "code",
   "execution_count": 18,
   "metadata": {},
   "outputs": [
    {
     "name": "stdout",
     "output_type": "stream",
     "text": [
      "hi to all\n",
      "\n"
     ]
    }
   ],
   "source": [
    "fh=open('book.txt','w')\n",
    "data=\"hi to all\"\n",
    "fh.write(data)\n",
    "fh.close()\n",
    "fh=open('book.txt','r')\n",
    "print(fh.read())\n",
    "print(fh.read())\n"
   ]
  },
  {
   "cell_type": "code",
   "execution_count": 16,
   "metadata": {},
   "outputs": [
    {
     "name": "stdout",
     "output_type": "stream",
     "text": [
      "\n"
     ]
    }
   ],
   "source": [
    "fh =open('book.txt','r')\n",
    "print(fh.read())\n",
    "fh.close()"
   ]
  },
  {
   "cell_type": "markdown",
   "metadata": {},
   "source": [
    "# Day  Objectives:\n",
    "\n",
    "- File Handling\n",
    "    -Basic File Data Processing\n",
    "        -Acessing and modifying file data\n",
    "     -Character Count\n",
    "     - Line Count\n",
    "     -File Size\n",
    "     -Word COunt\n",
    "     -Unique Word Count\n",
    "    \n"
   ]
  },
  {
   "cell_type": "code",
   "execution_count": 49,
   "metadata": {},
   "outputs": [
    {
     "name": "stdout",
     "output_type": "stream",
     "text": [
      "newdata\n",
      "lokesh\n",
      "lokesh\n",
      "lokesh\n",
      "lokesh1234556\n"
     ]
    }
   ],
   "source": [
    "# Read a file - File should exists(read mode)\n",
    "# write a file- File existing(append mode) or create a new file(write mode)\n",
    "\n",
    "def readFile(filePath):\n",
    "    with open(filePath,'r') as f:\n",
    "        filedata=f.read()\n",
    "    return filedata\n",
    "filePath='DataFiles/data.txt'\n",
    "print(readFile(filePath))\n",
    "        \n",
    "\n"
   ]
  },
  {
   "cell_type": "code",
   "execution_count": 97,
   "metadata": {},
   "outputs": [
    {
     "name": "stdout",
     "output_type": "stream",
     "text": [
      "newdata\n",
      "lokesh\n",
      "lokesh\n",
      "lokesh\n",
      "lokesh \n",
      "vinay\n",
      "sai\n",
      "Rambabu\n",
      "1234556\n",
      "53\n",
      "8\n",
      "1\n"
     ]
    }
   ],
   "source": [
    "def counting(filePath):\n",
    "    char=0\n",
    "    line=0\n",
    "    spaces=0\n",
    "    with open(filePath,'r') as f:\n",
    "        filedata=f.read()\n",
    "        for i in filedata:\n",
    "            if i==\" \":\n",
    "                spaces+=1\n",
    "            elif i==\"\\n\":\n",
    "                line+=1\n",
    "            else:\n",
    "                char+=1\n",
    "        print(filedata)\n",
    "        print(char)\n",
    "        print(line)\n",
    "        print(spaces)\n",
    "filePath='DataFiles/data.txt'\n",
    "counting(filePath)\n",
    "\n",
    "\n"
   ]
  },
  {
   "cell_type": "code",
   "execution_count": 96,
   "metadata": {},
   "outputs": [
    {
     "name": "stdout",
     "output_type": "stream",
     "text": [
      "9\n"
     ]
    }
   ],
   "source": [
    "def wordcount(filePath):\n",
    "    with open (filePath,'r') as f:\n",
    "        s=f.read().split()\n",
    "        print(len(s))\n",
    "        \n",
    "filePath='DataFiles/data.txt'\n",
    "wordcount(filePath)\n",
    "\n"
   ]
  },
  {
   "cell_type": "code",
   "execution_count": 95,
   "metadata": {},
   "outputs": [
    {
     "name": "stdout",
     "output_type": "stream",
     "text": [
      "62 bytes\n"
     ]
    }
   ],
   "source": [
    "import os\n",
    "def fileSize(filePath):\n",
    "    b=os.path.getsize(filePath)\n",
    "    if b<1000:\n",
    "        print(b,\"bytes\")\n",
    "    else:\n",
    "        a=b//1000\n",
    "        print(a,\"kb\")\n",
    "    return\n",
    "filePath='DataFiles/data.txt'\n",
    "fileSize(filePath)\n",
    "\n",
    "            "
   ]
  },
  {
   "cell_type": "code",
   "execution_count": 94,
   "metadata": {},
   "outputs": [
    {
     "name": "stdout",
     "output_type": "stream",
     "text": [
      "['newdata', 'lokesh', 'lokesh', 'lokesh', 'lokesh ', 'vinay', 'sai', 'Rambabu', '1234556']\n",
      "6\n"
     ]
    }
   ],
   "source": [
    "def uniqueWords(filePath):\n",
    "    with open(filePath, 'r') as f:\n",
    "        lines = f.read().splitlines()\n",
    "\n",
    "        uniques = set()\n",
    "        for line in lines:\n",
    "            uniques |= set(line.split())\n",
    "        print(lines)\n",
    "\n",
    "        print(len(uniques))\n",
    "        \n",
    "filePath='DataFiles/data.txt'\n",
    "uniqueWords(filePath)\n"
   ]
  },
  {
   "cell_type": "code",
   "execution_count": null,
   "metadata": {},
   "outputs": [],
   "source": [
    "def profilePhot"
   ]
  }
 ],
 "metadata": {
  "kernelspec": {
   "display_name": "Python 3",
   "language": "python",
   "name": "python3"
  },
  "language_info": {
   "codemirror_mode": {
    "name": "ipython",
    "version": 3
   },
   "file_extension": ".py",
   "mimetype": "text/x-python",
   "name": "python",
   "nbconvert_exporter": "python",
   "pygments_lexer": "ipython3",
   "version": "3.7.3"
  }
 },
 "nbformat": 4,
 "nbformat_minor": 2
}
