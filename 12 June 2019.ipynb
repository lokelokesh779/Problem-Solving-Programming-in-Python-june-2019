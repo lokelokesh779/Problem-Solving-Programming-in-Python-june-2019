{
 "cells": [
  {
   "cell_type": "markdown",
   "metadata": {},
   "source": [
    "# Problem Solving and Programming\n",
    "### 12 june 2019\n",
    "### Day Objectivies\n",
    "\n",
    "- String Slicing\n",
    "- "
   ]
  },
  {
   "cell_type": "markdown",
   "metadata": {},
   "source": []
  },
  {
   "cell_type": "code",
   "execution_count": null,
   "metadata": {},
   "outputs": [],
   "source": []
  },
  {
   "cell_type": "code",
   "execution_count": 49,
   "metadata": {},
   "outputs": [
    {
     "data": {
      "text/plain": [
       "'nhy'"
      ]
     },
     "execution_count": 49,
     "metadata": {},
     "output_type": "execute_result"
    }
   ],
   "source": [
    "# Reverse of a string\n",
    "\n",
    "s1=\"python\"\n",
    "\n",
    "s1[-1::-1] #Reverse of a string\n",
    "\n",
    "# Accessing last two stings in reverse order\n",
    "s1[-1:3:-1]\n",
    "\n",
    "#Reverse the middle two characters in even length\n",
    "\n",
    "s1[-3:-5:-1]\n",
    "\n",
    "\n",
    "#Accessing alternate characters in a string\n",
    "\n",
    "s1[0::2]\n",
    "\n",
    "s1[::-2]\n"
   ]
  },
  {
   "cell_type": "markdown",
   "metadata": {},
   "source": [
    "### Functions"
   ]
  },
  {
   "cell_type": "code",
   "execution_count": 50,
   "metadata": {},
   "outputs": [
    {
     "data": {
      "text/plain": [
       "'nohtyp'"
      ]
     },
     "execution_count": 50,
     "metadata": {},
     "output_type": "execute_result"
    }
   ],
   "source": [
    "#Reverse string Function\n",
    "def reverseString(s):\n",
    "    return s[::-1]\n",
    "\n",
    "reverseString(\"python\")"
   ]
  },
  {
   "cell_type": "code",
   "execution_count": 58,
   "metadata": {},
   "outputs": [
    {
     "data": {
      "text/plain": [
       "False"
      ]
     },
     "execution_count": 58,
     "metadata": {},
     "output_type": "execute_result"
    }
   ],
   "source": [
    "#To check a string is Palindrome\n",
    "def palindrome(s):\n",
    "    if s==s[::-1]:\n",
    "        return True\n",
    "    else:\n",
    "        return False\n",
    "palindrome(\"python\")"
   ]
  },
  {
   "cell_type": "code",
   "execution_count": 60,
   "metadata": {},
   "outputs": [
    {
     "data": {
      "text/plain": [
       "False"
      ]
     },
     "execution_count": 60,
     "metadata": {},
     "output_type": "execute_result"
    }
   ],
   "source": [
    "#LeapYear Function\n",
    "\n",
    "def isLeapYear(year):\n",
    "    if year%400==0 or (year%100!=0 and year%4==0):\n",
    "        return True\n",
    "    else:\n",
    "        return False\n",
    "    \n",
    "isLeapYear(2019)"
   ]
  },
  {
   "cell_type": "code",
   "execution_count": 69,
   "metadata": {},
   "outputs": [
    {
     "data": {
      "text/plain": [
       "5"
      ]
     },
     "execution_count": 69,
     "metadata": {},
     "output_type": "execute_result"
    }
   ],
   "source": [
    "# To count number of digits in a given number\n",
    "\n",
    "def length(n):\n",
    "    return len(str(n))\n",
    "\n",
    "length(12345)\n",
    "\n"
   ]
  },
  {
   "cell_type": "code",
   "execution_count": 73,
   "metadata": {},
   "outputs": [
    {
     "data": {
      "text/plain": [
       "60"
      ]
     },
     "execution_count": 73,
     "metadata": {},
     "output_type": "execute_result"
    }
   ],
   "source": [
    "#Function to identify the greatest of four numbers\n",
    "def greatest(n1,n2,n3,n4):\n",
    "    if n1>n2 and n1>n3 and n1>n4:\n",
    "        return n1\n",
    "    elif n2>n3 and n3>n4:\n",
    "        return n2\n",
    "    elif  n3>n4:\n",
    "        return n3\n",
    "    else:\n",
    "        return n4\n",
    "\n",
    "greatest(12,20,60,1)\n"
   ]
  },
  {
   "cell_type": "code",
   "execution_count": null,
   "metadata": {},
   "outputs": [],
   "source": []
  },
  {
   "cell_type": "markdown",
   "metadata": {},
   "source": [
    "## Iteration\n",
    "\n",
    "- for\n",
    "- while\n",
    "\n",
    "\n",
    "#### For Loop in Python\n",
    "\n",
    "\n",
    "\n"
   ]
  },
  {
   "cell_type": "code",
   "execution_count": 3,
   "metadata": {},
   "outputs": [
    {
     "name": "stdout",
     "output_type": "stream",
     "text": [
      "1 2 3 4 5 6 7 8 9 10 11 12 13 14 15 16 17 18 19 20 21 22 23 24 25 26 27 28 29 30 "
     ]
    }
   ],
   "source": [
    "#function to print n  natural numbers\n",
    "\n",
    "\n",
    "def printNNaturalNumbers(n):\n",
    "    for i in range (1,n+1):\n",
    "        print(i,end=\" \")\n",
    "    return\n",
    "    \n",
    "printNNaturalNumbers(30)\n",
    "    \n"
   ]
  },
  {
   "cell_type": "code",
   "execution_count": 80,
   "metadata": {},
   "outputs": [
    {
     "name": "stdout",
     "output_type": "stream",
     "text": [
      "1 2 3 4 5 6 7 8 9 10 11 12 13 14 15 16 17 18 19 20 "
     ]
    }
   ],
   "source": [
    "#Function to print N natural numbers\n",
    "\n",
    "def nNaturalNumbers(n):\n",
    "    i=1\n",
    "    while(i<=n):\n",
    "        print(i,end=\" \")\n",
    "        i=i+1\n",
    "    return\n",
    "\n",
    "nNaturalNumbers(20)"
   ]
  },
  {
   "cell_type": "code",
   "execution_count": 28,
   "metadata": {},
   "outputs": [
    {
     "name": "stdout",
     "output_type": "stream",
     "text": [
      "500 502 504 506 508 510 512 514 516 518 520 522 524 526 528 530 532 534 536 538 540 542 544 546 548 550 "
     ]
    }
   ],
   "source": [
    "#Function to print alternate values in range in a same line\n",
    "# All set based function in python have start value inclusive and exclusive end value\n",
    "\n",
    "\n",
    "def alternateValues(lb,ub):\n",
    "    for value in range(lb,ub+1,2):\n",
    "        print(value,end=\" \")\n",
    "    return\n",
    "\n",
    "\n",
    "\n",
    "alternateValues(500,550)\n",
    "\n",
    "\n"
   ]
  },
  {
   "cell_type": "code",
   "execution_count": 34,
   "metadata": {},
   "outputs": [
    {
     "name": "stdout",
     "output_type": "stream",
     "text": [
      "330 329 328 327 326 325 324 323 322 321 320 319 318 317 316 315 314 313 312 311 310 309 308 307 306 305 304 303 302 301 300 "
     ]
    }
   ],
   "source": [
    "# Function to print reverse of a given range in a same line\n",
    "\n",
    "def reverseValue(lb,ub):\n",
    "    for value in range(ub,lb-1,-1):\n",
    "        print(value,end=\" \")\n",
    "    return\n",
    "    \n",
    "reverseValue(300,330)\n",
    "    "
   ]
  },
  {
   "cell_type": "code",
   "execution_count": 42,
   "metadata": {},
   "outputs": [
    {
     "name": "stdout",
     "output_type": "stream",
     "text": [
      "29 27 25 23 21 19 17 15 13 11 "
     ]
    }
   ],
   "source": [
    "# Function to print odd numbers in reverse order  in a given range\n",
    "\n",
    "def oddNumbers(lb,ub):\n",
    "    for value in range(ub,lb-1,-1):\n",
    "        if value%2!=0:\n",
    "            print(value,end=\" \")\n",
    "    return\n",
    "\n",
    "oddNumbers(10,30)"
   ]
  },
  {
   "cell_type": "code",
   "execution_count": 79,
   "metadata": {},
   "outputs": [
    {
     "data": {
      "text/plain": [
       "5050"
      ]
     },
     "execution_count": 79,
     "metadata": {},
     "output_type": "execute_result"
    }
   ],
   "source": [
    "# Function to calculate the sum of numbers in a given range\n",
    "\n",
    "\n",
    "def sumOfNumbers(lb,ub):\n",
    "    s=0\n",
    "    for value in range(lb,ub+1):\n",
    "        s=s+value\n",
    "    return s\n",
    "        \n",
    "\n",
    "sumOfNumbers(1,100)\n",
    "        "
   ]
  },
  {
   "cell_type": "code",
   "execution_count": 80,
   "metadata": {},
   "outputs": [
    {
     "data": {
      "text/plain": [
       "50.5"
      ]
     },
     "execution_count": 80,
     "metadata": {},
     "output_type": "execute_result"
    }
   ],
   "source": [
    "# Function to calculate average of numbers in a given range\n",
    "\n",
    "def average(lb,ub):\n",
    "    s=0\n",
    "    count=0\n",
    "    for value in range(lb,ub+1):\n",
    "        s=s+value\n",
    "        count=count+1 #count calculation\n",
    "    return s/count\n",
    "\n",
    "average(1,100)"
   ]
  },
  {
   "cell_type": "code",
   "execution_count": 6,
   "metadata": {},
   "outputs": [
    {
     "name": "stdout",
     "output_type": "stream",
     "text": [
      "1920 1924 1928 1932 1936 1940 1944 1948 1952 1956 1960 1964 1968 1972 1976 1980 1984 1988 1992 1996 2000 2004 2008 "
     ]
    }
   ],
   "source": [
    "# Function to generate the leap years in a given range\n",
    "# function to find leapyear\n",
    "\n",
    "def isLeapYear(year):\n",
    "        if(year%400==0 or (year%100!=0 and year%4==0 )):\n",
    "            return True\n",
    "        return False\n",
    "        \n",
    "\n",
    "def generateLeapYears(lb,ub):\n",
    "    for year in range(lb,ub+1):\n",
    "        if isLeapYear(year):\n",
    "            print(year,end=\" \")\n",
    "    return\n",
    "\n",
    "\n",
    "generateLeapYears(1918,2010)\n",
    "    \n",
    "                    \n"
   ]
  },
  {
   "cell_type": "code",
   "execution_count": 86,
   "metadata": {},
   "outputs": [
    {
     "data": {
      "text/plain": [
       "365"
      ]
     },
     "execution_count": 86,
     "metadata": {},
     "output_type": "execute_result"
    }
   ],
   "source": [
    "# Calculate number of days in a given period of time using leapyear\n",
    "\n",
    "\n",
    "\n",
    "def numberOfDays(lb,ub):\n",
    "    sum=0\n",
    "    for year in range(lb,ub+1):\n",
    "        if isLeapYear(year):\n",
    "            sum=sum+366\n",
    "        else:\n",
    "            sum= sum+365\n",
    "    return sum\n",
    "\n",
    "numberOfDays(2018,2018)\n",
    "\n"
   ]
  },
  {
   "cell_type": "code",
   "execution_count": 90,
   "metadata": {},
   "outputs": [
    {
     "data": {
      "text/plain": [
       "10272"
      ]
     },
     "execution_count": 90,
     "metadata": {},
     "output_type": "execute_result"
    }
   ],
   "source": [
    "# Function to calculate number of hours for a given period in the format (month,year,end month,end year)\n",
    "# numberOfHours(11,1975,3,1999)\n",
    "# numberOfHours(5,2019,6,2019)\n",
    "# 2,2017,6,2019\n",
    "#n.of hours=24*days\n",
    "#3 steps\n",
    "    # start month year to end of year-calculate no of days\n",
    "    #Calculate days for all years between start year and end year exclusive\n",
    "    #calculate days from jan to end month year \n",
    "#number of days in a month \n",
    "#First six months-1,3,4,5,6,7\n",
    "                #all odd months have 31 days\n",
    "                #all even months have 30 days\n",
    "# Last six months-8,9,10,11,12\n",
    "                # all even months have 31 days\n",
    "                #all odd months have 30 days\n",
    "# 31 days -(month<=7 and month%2!=0 and month!=2)//(month>=12 and month%2=0 and month!=2)\n",
    "               # return 31\n",
    "            #else\n",
    "                #return 30\n",
    "    \n",
    "    \n",
    "def numberOfDaysMonth(month,year):\n",
    "    if month==2:\n",
    "        if isLeapYear(year):\n",
    "            return 29\n",
    "        return 28\n",
    "    elif (month<=7 and month%2!=0) or (month>=8 and month!=2):\n",
    "        return 31\n",
    "    else:\n",
    "        return 30\n",
    "    \n",
    "numberOfDaysMonth(7,2019)\n",
    "    \n",
    "    \n",
    "    \n",
    "def daysInStartYear(startmonth,startyear):\n",
    "    days=0\n",
    "    for month in range(startmonth,13):\n",
    "        days += numberOfDaysMonth(month,startyear)\n",
    "    return days\n",
    "\n",
    "def daysInEndYear(endmonth,endyear):\n",
    "    days=0\n",
    "    for month in range(1,endmonth+1):\n",
    "        days += numberOfDaysMonth(month,endyear)\n",
    "    return days\n",
    "\n",
    "\n",
    "def numberOfHours(startmonth,startyear,endmonth,endyear):\n",
    "    days=0\n",
    "    days+=daysInStartYear(startmonth,startyear)\n",
    "    days+=daysInEndYear(endmonth,endyear)\n",
    "    if endyear-startyear==2:\n",
    "        days += numberOfDays(startyear+1,startyear+1)\n",
    "    elif endyear-startyear>2:\n",
    "        days += numberOfDays(startyear+1,endyear-1)\n",
    "    return 24*days\n",
    "\n",
    "numberOfHours(6,2018,7,2018)\n",
    "\n",
    "\n",
    "\n",
    "        "
   ]
  },
  {
   "cell_type": "code",
   "execution_count": 91,
   "metadata": {},
   "outputs": [
    {
     "data": {
      "text/plain": [
       "1464"
      ]
     },
     "execution_count": 91,
     "metadata": {},
     "output_type": "execute_result"
    }
   ],
   "source": [
    "\n",
    "def numberOfDaysMonth(month, year):\n",
    "    if month == 2:\n",
    "        if isLeapYear(year):\n",
    "            return 29\n",
    "        return 28\n",
    "    elif (month <= 7 and month % 2!= 0) or (month >= 8 and month % 2 == 0):\n",
    "        return 31\n",
    "    else:\n",
    "        return 30\n",
    "\n",
    "def daysInStartYear(startmonth, startyear):\n",
    "    days = 0 \n",
    "    for month in range(startmonth, 13):\n",
    "        days += numberOfDaysMonth(month, startyear)\n",
    "    return days    \n",
    "\n",
    "def daysInEndYear(endmonth, endyear):\n",
    "    days = 0\n",
    "    for month in range(1, endmonth+1):\n",
    "        days += numberOfDaysMonth(month, endyear)\n",
    "    return days\n",
    "\n",
    "def numberOfHours(startmonth, startyear, endmonth, endyear):\n",
    "    days = 0\n",
    "    if startyear != endyear:\n",
    "        days += daysInStartYear(startmonth, startyear)\n",
    "        days += daysInEndYear(endmonth, endyear)\n",
    "        if endyear - startyear == 2: # 2019 - 2017\n",
    "            days += numberOfDays(startyear+1, startyear+1)\n",
    "        elif endyear - startyear > 2:\n",
    "            days += numberOfDays(startyear+1, endyear-1)\n",
    "    else:\n",
    "        for month in range(startmonth, endmonth+1):\n",
    "            days += numberOfDaysMonth(month, startyear)\n",
    "    return 24 * days\n",
    "\n",
    "\n",
    "numberOfHours(6, 2018, 7, 2018)"
   ]
  },
  {
   "cell_type": "code",
   "execution_count": 7,
   "metadata": {},
   "outputs": [
    {
     "name": "stdout",
     "output_type": "stream",
     "text": [
      "6 12 18 24 30 36 42 48 54 60 66 72 78 84 90 96 "
     ]
    }
   ],
   "source": [
    "#Function to print all numbers divisible by 6 and not a factor of 100 in a given range(lb,ub) inclusive\n",
    "\n",
    "\n",
    "def number(lb,ub):\n",
    "    for i in range(lb,ub):\n",
    "        if i%6==0 and 100%i!=0:\n",
    "            print(i,end=\" \")\n",
    "            \n",
    "\n",
    "number(1,100)\n"
   ]
  },
  {
   "cell_type": "code",
   "execution_count": 21,
   "metadata": {},
   "outputs": [
    {
     "name": "stdout",
     "output_type": "stream",
     "text": [
      "200.0\n"
     ]
    }
   ],
   "source": [
    "# Function to find the average of cubes  all even numbers in a given range(lb,ub)inclusive\n",
    "\n",
    "def Cubes(lb,ub):\n",
    "    s=0\n",
    "    c=0\n",
    "    a=0\n",
    "    for i in range(lb,ub):\n",
    "        if i%2==0:\n",
    "            c=c+1\n",
    "            s=i**3\n",
    "            a=a+s\n",
    "    print(a/c)\n",
    "        \n",
    "Cubes(2,10)\n"
   ]
  },
  {
   "cell_type": "code",
   "execution_count": 5,
   "metadata": {},
   "outputs": [
    {
     "data": {
      "text/plain": [
       "6"
      ]
     },
     "execution_count": 5,
     "metadata": {},
     "output_type": "execute_result"
    }
   ],
   "source": [
    "# Function to generate the sum of list of factors for a given number\n",
    "def factorsList(n):\n",
    "    sum = 0\n",
    "    for i in range(1, n//2+1):\n",
    "        if n % i == 0:\n",
    "            sum += i\n",
    "    return sum\n",
    "\n",
    "factorsList(6)\n"
   ]
  },
  {
   "cell_type": "code",
   "execution_count": 83,
   "metadata": {},
   "outputs": [
    {
     "name": "stdout",
     "output_type": "stream",
     "text": [
      "120\n"
     ]
    }
   ],
   "source": [
    "# Function to calculate the factorial ofa given number\n",
    "\n",
    "def factorial(n):\n",
    "    for i in range(1,n):\n",
    "        n=n*i\n",
    "    print(n)\n",
    "        \n",
    "factorial(5)"
   ]
  },
  {
   "cell_type": "code",
   "execution_count": 2,
   "metadata": {},
   "outputs": [
    {
     "data": {
      "text/plain": [
       "False"
      ]
     },
     "execution_count": 2,
     "metadata": {},
     "output_type": "execute_result"
    }
   ],
   "source": [
    "# Function to check if a given number is prime\n",
    "\n",
    "def isPrime(n):\n",
    "    flag = True\n",
    "    for i in range(2, n//2+1):\n",
    "        if n % i == 0:\n",
    "            flag = False\n",
    "            return flag\n",
    "    return flag\n",
    "\n",
    "isPrime(4)\n"
   ]
  },
  {
   "cell_type": "code",
   "execution_count": 3,
   "metadata": {},
   "outputs": [
    {
     "data": {
      "text/plain": [
       "12.9"
      ]
     },
     "execution_count": 3,
     "metadata": {},
     "output_type": "execute_result"
    }
   ],
   "source": [
    "# Function to calculate the average of first N prime numbers\n",
    "\n",
    "def avgNPrimes(n):\n",
    "    primeCount=0\n",
    "    sum=0\n",
    "    seqCount=2\n",
    "    while(primeCount<n):\n",
    "        if isPrime(seqCount):\n",
    "            primeCount +=1\n",
    "            sum += seqCount\n",
    "        seqCount +=1\n",
    "    return sum/n\n",
    "\n",
    "\n",
    "avgNPrimes(10)"
   ]
  },
  {
   "cell_type": "code",
   "execution_count": 6,
   "metadata": {},
   "outputs": [
    {
     "name": "stdout",
     "output_type": "stream",
     "text": [
      "6 28 496 8128 "
     ]
    }
   ],
   "source": [
    "# Function to generate all perfect numbers in a given range\n",
    "\n",
    "\n",
    "\n",
    "def isPerfect(n):\n",
    "    if factorsList(n) == n:\n",
    "        return True\n",
    "    return False\n",
    "\n",
    "def generatePerfect(lb, ub):\n",
    "    for i in range(lb, ub+1):\n",
    "        if isPerfect(i):\n",
    "            print(i, end=\" \")\n",
    "    return\n",
    "\n",
    "generatePerfect(1, 10000)\n",
    "\n"
   ]
  },
  {
   "cell_type": "code",
   "execution_count": null,
   "metadata": {},
   "outputs": [],
   "source": []
  }
 ],
 "metadata": {
  "kernelspec": {
   "display_name": "Python 3",
   "language": "python",
   "name": "python3"
  },
  "language_info": {
   "codemirror_mode": {
    "name": "ipython",
    "version": 3
   },
   "file_extension": ".py",
   "mimetype": "text/x-python",
   "name": "python",
   "nbconvert_exporter": "python",
   "pygments_lexer": "ipython3",
   "version": "3.7.3"
  }
 },
 "nbformat": 4,
 "nbformat_minor": 2
}
