{
 "cells": [
  {
   "cell_type": "code",
   "execution_count": 133,
   "metadata": {},
   "outputs": [
    {
     "name": "stdout",
     "output_type": "stream",
     "text": [
      "-1\n"
     ]
    }
   ],
   "source": [
    "#CLosest to zero\n",
    "\n",
    "\n",
    "\n",
    "\n",
    "li=[2,  2, 3, -100, -1]\n",
    "\n",
    "li.sort()\n",
    "\n",
    "pl=[]\n",
    "\n",
    "for i in li:\n",
    "    pl.append(abs(i))\n",
    "    \n",
    "    \n",
    "pl.sort()\n",
    "if pl[0] in li:\n",
    "    print(pl[0])\n",
    "else:\n",
    "    print(-pl[0])\n",
    "    \n",
    "    \n",
    "    \n",
    "\n",
    "    "
   ]
  },
  {
   "cell_type": "code",
   "execution_count": 23,
   "metadata": {},
   "outputs": [
    {
     "name": "stdout",
     "output_type": "stream",
     "text": [
      "-10\n"
     ]
    }
   ],
   "source": [
    "# far from zero\n",
    "\n",
    "li=[-1, -2,-3, 1, -10, 9]\n",
    "li.sort()\n",
    "pl=[]\n",
    "\n",
    "for i in li:\n",
    "    pl.append(abs(i))\n",
    "    \n",
    "    \n",
    "pl.sort()\n",
    "if pl[-1] in li:\n",
    "    print(pl[-1])\n",
    "else:\n",
    "    print(-pl[-1])\n",
    "    \n",
    "    \n",
    "\n"
   ]
  },
  {
   "cell_type": "code",
   "execution_count": 130,
   "metadata": {},
   "outputs": [
    {
     "data": {
      "text/plain": [
       "47"
      ]
     },
     "execution_count": 130,
     "metadata": {},
     "output_type": "execute_result"
    }
   ],
   "source": [
    "#You are given three numbers a,b,c.\n",
    "#Write a program to find the largest number which is less than or equal to c and leaves remainder b when divided by a\n",
    "\n",
    "\n",
    "#3 2 9\n",
    "\n",
    "#9%3=0\n",
    "#8%3=2\n",
    "\n",
    "\n",
    "def cal(a, b, c):\n",
    "    \n",
    "    for i in range(c, a, -1):\n",
    "        \n",
    "        if i%a==b:\n",
    "            return i\n",
    "        \n",
    "    return -1\n",
    "\n",
    "\n",
    "cal(3, 2, 49)\n",
    "\n"
   ]
  },
  {
   "cell_type": "code",
   "execution_count": 124,
   "metadata": {},
   "outputs": [
    {
     "name": "stdout",
     "output_type": "stream",
     "text": [
      "1 9 4\n",
      "2\n"
     ]
    }
   ],
   "source": [
    "#You have been given 3 integers - l, r and k. Find how many numbers between l and r (both inclusive) are divisible by k. You do not need to print these numbers, you just have to find their count.\n",
    "\n",
    "#Input Format\n",
    "#The first and only line of input contains 3 space separated integers l, r and k.\n",
    "\n",
    "#Output Format\n",
    "#Print the required answer on a single line.\n",
    "\n",
    "\n",
    "def countDivisors(i, j, k):\n",
    "    a=0\n",
    "    for n in range(i,j+1):\n",
    "        if n%k==0:\n",
    "            a+=1\n",
    "    print(a)\n",
    "    return\n",
    "\n",
    "\n",
    "\n",
    "s=input()\n",
    "s=s.split()\n",
    "i=int(s[0])\n",
    "j=int(s[1])\n",
    "k=int(s[2])\n",
    "\n",
    "countDivisors(i, j, k)\n",
    "\n",
    "        \n",
    "            \n",
    "    \n",
    "            "
   ]
  },
  {
   "cell_type": "markdown",
   "metadata": {},
   "source": [
    "### "
   ]
  },
  {
   "cell_type": "code",
   "execution_count": 121,
   "metadata": {},
   "outputs": [
    {
     "name": "stdout",
     "output_type": "stream",
     "text": [
      "6\n",
      "720\n"
     ]
    }
   ],
   "source": [
    "#You have been given a positive integer N. You need to find and print the Factorial of this number. The Factorial of a positive integer N refers to the product of all number in the range from 1 to N. You can read more about the factorial of a number here.\n",
    "\n",
    "#Input Format:\n",
    "#The first and only line of the input contains a single integer N denoting the number whose factorial you need to find.\n",
    "\n",
    "#Output Format\n",
    "#Output a single line denoting the factorial of the number N.\n",
    "\n",
    "\n",
    "\n",
    "\n",
    "def factorial(n):\n",
    "    fact=1\n",
    "    for i in range(1,n+1):\n",
    "        fact=fact*i\n",
    "        \n",
    "    print(fact)\n",
    "    \n",
    "s=input()\n",
    "n=int(s)\n",
    "factorial(n)\n",
    "    "
   ]
  },
  {
   "cell_type": "code",
   "execution_count": null,
   "metadata": {},
   "outputs": [],
   "source": []
  },
  {
   "cell_type": "code",
   "execution_count": 122,
   "metadata": {},
   "outputs": [
    {
     "name": "stdout",
     "output_type": "stream",
     "text": [
      "python\n",
      "PYTHON"
     ]
    }
   ],
   "source": [
    "#You have been given a String S consisting of uppercase and lowercase English alphabets. You need to change the case of each alphabet in this String. That is, all the uppercase letters should be converted to lowercase and all the lowercase letters should be converted to uppercase. You need to then print the resultant String to output.\n",
    "\n",
    "#Input Format\n",
    "#The first and only line of input contains the String S\n",
    "\n",
    "#Output Format\n",
    "#Print the resultant String on a single line.\n",
    "\n",
    "\n",
    "\n",
    "def toggle(str):\n",
    "    str2=\"\"\n",
    "    for i in str:\n",
    "        if i.isupper():\n",
    "            str2=i.lower()\n",
    "            print(str2,end=\"\")\n",
    "        else:\n",
    "            str2=i.upper()\n",
    "            print(str2,end=\"\")\n",
    "    return\n",
    "    \n",
    "        \n",
    "str=input()\n",
    "toggle(str)"
   ]
  },
  {
   "cell_type": "code",
   "execution_count": 11,
   "metadata": {},
   "outputs": [
    {
     "name": "stdout",
     "output_type": "stream",
     "text": [
      "41\n",
      "2 3 5 7 11 13 17 19 23 29 31 37 41 "
     ]
    }
   ],
   "source": [
    "#Input Format\n",
    "\n",
    "#The first and only line of the input contains a single integer N denoting the number till where you need to find the series of prime number.\n",
    "\n",
    "#Output Format\n",
    "\n",
    "#Print the desired output in single line separated by spaces.\n",
    "\n",
    "\n",
    "\n",
    "\n",
    "def isPrime(n):\n",
    "    count=0\n",
    "    for i in range(1,n+1):\n",
    "        if n%i==0:\n",
    "            count+=1\n",
    "    if count==2:\n",
    "        return i\n",
    "def primeRange(t):\n",
    "    for i in range(1,t+1):\n",
    "        if isPrime(i):\n",
    "            print(i,end=\" \")\n",
    "t=int(input())\n",
    "primeRange(t)\n",
    "\n",
    "    \n",
    "    \n",
    "    \n"
   ]
  },
  {
   "cell_type": "code",
   "execution_count": 109,
   "metadata": {},
   "outputs": [
    {
     "name": "stdout",
     "output_type": "stream",
     "text": [
      "123321\n",
      "YES\n"
     ]
    }
   ],
   "source": [
    "#You have been given a String S. You need to find and print whether this string is a palindrome or not. If yes, print \"YES\" (without quotes), else print \"NO\" (without quotes).\n",
    "\n",
    "#Input Format\n",
    "#The first and only line of input contains the String S. The String shall consist of lowercase English alphabets only.\n",
    "\n",
    "#Output Format\n",
    "#Print the required answer on a single line.\n",
    "\n",
    "\n",
    "\n",
    "s=input()\n",
    "r=s[::-1]\n",
    "if r==s:\n",
    "    print(\"YES\")\n",
    "else:\n",
    "    print(\"NO\")\n",
    "    \n",
    "       \n",
    "\n"
   ]
  },
  {
   "cell_type": "code",
   "execution_count": null,
   "metadata": {},
   "outputs": [],
   "source": [
    "\n",
    "    "
   ]
  },
  {
   "cell_type": "code",
   "execution_count": null,
   "metadata": {},
   "outputs": [],
   "source": []
  }
 ],
 "metadata": {
  "kernelspec": {
   "display_name": "Python 3",
   "language": "python",
   "name": "python3"
  },
  "language_info": {
   "codemirror_mode": {
    "name": "ipython",
    "version": 3
   },
   "file_extension": ".py",
   "mimetype": "text/x-python",
   "name": "python",
   "nbconvert_exporter": "python",
   "pygments_lexer": "ipython3",
   "version": "3.7.3"
  }
 },
 "nbformat": 4,
 "nbformat_minor": 2
}
