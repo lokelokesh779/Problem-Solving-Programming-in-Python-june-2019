{
 "cells": [
  {
   "cell_type": "code",
   "execution_count": 15,
   "metadata": {},
   "outputs": [
    {
     "name": "stdout",
     "output_type": "stream",
     "text": [
      "15\n",
      "2 3 5 7 11 13 "
     ]
    }
   ],
   "source": [
    "def isPrime(n):\n",
    "    count=0\n",
    "    for i in range(1,n+1):\n",
    "        if n%i==0:\n",
    "            count+=1\n",
    "    if count==2:\n",
    "        return i\n",
    "def primeRange(t):\n",
    "    for i in range(1,t+1):\n",
    "        if isPrime(i):\n",
    "            print(i,end=\" \")\n",
    "t=int(input())\n",
    "primeRange(t)"
   ]
  },
  {
   "cell_type": "code",
   "execution_count": null,
   "metadata": {},
   "outputs": [
    {
     "name": "stdout",
     "output_type": "stream",
     "text": [
      "4 3\n",
      "5 6 8 9\n",
      "1 3\n",
      "6\n",
      "2 4\n",
      "5\n"
     ]
    }
   ],
   "source": [
    "#Play with Numbers\n",
    "\n",
    "\n",
    "n=input().split()\n",
    "n[0],n[1]= int(n[0]),int(n[1])\n",
    "\n",
    "# Read array elements\n",
    "\n",
    "a=input().split()\n",
    "\n",
    "# Initialize cummulative sum array\n",
    "\n",
    "sum=[]\n",
    "\n",
    "#Cummulative sum\n",
    "for i in range (0, n[0]):\n",
    "    if i==0:\n",
    "        sum.append(int(a[i]))\n",
    "    else:\n",
    "        sum.append(int(sum[i-1])+int(a[i]))\n",
    "        \n",
    " #Read each query\n",
    "\n",
    "for k in range(0,n[1]):\n",
    "    inq=input().split()\n",
    "    i=int(inq[0])\n",
    "    j=int(inq[1])\n",
    "    if i>1:\n",
    "        print((sum[j-1]-sum[i-2])//(j-1+1))\n",
    "    else:\n",
    "        print(sum[j-1]//(j-1+1))\n"
   ]
  },
  {
   "cell_type": "code",
   "execution_count": 10,
   "metadata": {},
   "outputs": [
    {
     "name": "stdout",
     "output_type": "stream",
     "text": [
      "2\n",
      "3\n",
      "6\n",
      "YES\n",
      "9\n",
      "NO\n",
      "8\n",
      "NO\n"
     ]
    }
   ],
   "source": [
    "# Write a program to determine whether a number is special number which has distinct prime fcators\n",
    "#First line :p\n",
    "# SEcond line :Number of test cases\n",
    "\n",
    "\n",
    "\n",
    "def isSpecialNumber(n,p):\n",
    "    if numberOfPrimeFactors(n)>=p:\n",
    "        return True\n",
    "    return False\n",
    "\n",
    "# function to check prime\n",
    "\n",
    "def isPrime(n):\n",
    "    flag=1\n",
    "    if n==2:\n",
    "        return True\n",
    "    for i in range(2,n//2+1):\n",
    "        if n%i==0:\n",
    "            flag=0\n",
    "            return False\n",
    "    if flag==1:\n",
    "        return True\n",
    "    \n",
    "\n",
    "\n",
    "#Function to determine number of prime factors for a given number\n",
    "\n",
    "def numberOfPrimeFactors(n):\n",
    "    if isPrime(n):\n",
    "        return 1\n",
    "    count=0\n",
    "    for i in range(2,n//2+1):\n",
    "        if isPrime(i) and n%i==0:\n",
    "            count += 1\n",
    "            \n",
    "    return count\n",
    "\n",
    "\n",
    "def solution():\n",
    "    p=int(input())\n",
    "    t=int(input())\n",
    "    for i in range(0, t):\n",
    "        n=int(input())\n",
    "        if isSpecialNumber(n,p):\n",
    "            print(\"YES\")\n",
    "        else:\n",
    "            print(\"NO\")\n",
    "            \n",
    "            \n",
    "solution()\n",
    "\n",
    "    \n",
    "\n",
    "\n",
    "\n"
   ]
  },
  {
   "cell_type": "code",
   "execution_count": null,
   "metadata": {},
   "outputs": [],
   "source": [
    "def solution():\n",
    "    p=int(input())\n",
    "    t=int(input())\n",
    "    for i in range(0, t):\n",
    "        n=int(input())\n",
    "        if isSpecialNumber(n,p):\n",
    "            print(\"YES\")\n",
    "        else:\n",
    "            print(\"NO\")\n",
    "            \n",
    "            \n",
    "solution()\n"
   ]
  },
  {
   "cell_type": "code",
   "execution_count": 2,
   "metadata": {},
   "outputs": [
    {
     "name": "stdout",
     "output_type": "stream",
     "text": [
      "8\n"
     ]
    }
   ],
   "source": [
    "#Write a program to find a natural number that is smaaller than n and leaves highest remainder when divided by that number\n",
    "# If there is more than one such number,print the number with least\n",
    "#Highest Remainder\n",
    "\n",
    "def highestRemainder(n):\n",
    "    hr=0\n",
    "    v=n\n",
    "    for i in range(n-1,n//2,-1):\n",
    "        r=n%i\n",
    "        if r>hr:\n",
    "            hr=r\n",
    "            v=i\n",
    "    print(v)\n",
    "    return\n",
    "\n",
    "highestRemainder(15)\n",
    "        \n",
    "\n"
   ]
  },
  {
   "cell_type": "markdown",
   "metadata": {},
   "source": [
    "# Tuples\n",
    "## Tuple is denoted by()\n",
    "## Lists is denoted by []\n",
    "\n",
    "Lists are mutable -can be changed/modified\n",
    "\n",
    "    -used to Access,Modify,Add,Delete data\n",
    "\n",
    "Tuples are immutable-cannot be changed once initialised\n",
    "\n",
    "    -used to access data\n",
    "    -all slicing operations are done\n",
    "\n",
    "\n"
   ]
  },
  {
   "cell_type": "code",
   "execution_count": 28,
   "metadata": {},
   "outputs": [
    {
     "data": {
      "text/plain": [
       "tuple"
      ]
     },
     "execution_count": 28,
     "metadata": {},
     "output_type": "execute_result"
    }
   ],
   "source": [
    "t1=(1, 2, 3, 4, 5, 6)\n",
    "\n",
    "t1[3]#accessing fourth element\n",
    "\n",
    "t1[len(t1)//2:]  #Accessing all elements from middle\n",
    "\n",
    "type(t1)\n"
   ]
  },
  {
   "cell_type": "code",
   "execution_count": null,
   "metadata": {},
   "outputs": [],
   "source": []
  },
  {
   "cell_type": "markdown",
   "metadata": {},
   "source": [
    "# Dictionaries  in Python\n",
    "\n",
    "- It works on the concept of set\n",
    "- Keys and Values\n",
    "-Acts like Lists\n",
    "\n",
    "\n",
    "-Unique data,no duplicate keys and values\n",
    "\n",
    "-Key is a unique identifier for a value\n",
    "\n",
    "-Value is data that can be accessed with a key\n",
    "\n",
    "\n"
   ]
  },
  {
   "cell_type": "code",
   "execution_count": 48,
   "metadata": {},
   "outputs": [
    {
     "data": {
      "text/plain": [
       "True"
      ]
     },
     "execution_count": 48,
     "metadata": {},
     "output_type": "execute_result"
    }
   ],
   "source": [
    "d1={\"k1\":\"value 1\",\"k2\":\"Value 2\"}\n",
    "\n",
    "d1[\"k2\"] #Accessing the value with keys\n",
    "\n",
    "d1.values() # Accessing list of all values\n",
    "d1.keys()    # Accesing list of all  keys\n",
    "d1.items()   # Accessing list of tupleskeys and values\n",
    "d1[\"k3\"]=\"value3\"#Adding an element to dictionary\n",
    "d1[\"k3\"]=\"value4\"#Updating an element\n",
    "d1.pop(\"k3\")#Removing a element\n",
    "\"k1\" in d1 # Search whether it is in the dictionary\n",
    "\n",
    "\n",
    "\n"
   ]
  },
  {
   "cell_type": "markdown",
   "metadata": {},
   "source": [
    "# Contacts Application\n",
    "\n",
    "- Add Contacts\n",
    "- Search for contact\n",
    "- Modify contact\n",
    "- Remove contact\n",
    "- List all contacts\n",
    "- Import contacts\n",
    "\n",
    "\n"
   ]
  },
  {
   "cell_type": "code",
   "execution_count": 50,
   "metadata": {},
   "outputs": [
    {
     "name": "stdout",
     "output_type": "stream",
     "text": [
      "contact is added\n"
     ]
    }
   ],
   "source": [
    "contacts={} #Initialised empty dictionary\n",
    "\n",
    "def addContact(name,phone):\n",
    "    #verify the contact doesnot already exists\n",
    "    if name not in contacts:\n",
    "        contacts[name]=phone\n",
    "        print(\"contact is added\")\n",
    "    else:\n",
    "        print(\"contact is already exists\"%name)\n",
    "    return\n",
    "\n",
    "addContact(\"lokesh\",\"8096763970\")"
   ]
  },
  {
   "cell_type": "code",
   "execution_count": 56,
   "metadata": {},
   "outputs": [
    {
     "name": "stdout",
     "output_type": "stream",
     "text": [
      "lokesh : 8096763970\n"
     ]
    }
   ],
   "source": [
    "def searchContact(name):\n",
    "    if name in contacts:\n",
    "        print(name, \":\",contacts[name])\n",
    "    else:\n",
    "        print(\"name does not exists\")\n",
    "    return\n",
    "\n",
    "searchContact(\"lokesh\")"
   ]
  },
  {
   "cell_type": "code",
   "execution_count": 63,
   "metadata": {},
   "outputs": [
    {
     "name": "stdout",
     "output_type": "stream",
     "text": [
      "lokesh : 8096763970\n"
     ]
    }
   ],
   "source": [
    "def listOfContacts(contacts):\n",
    "    for name in contacts:\n",
    "        print(name,\":\",contacts[name])\n",
    "    return\n",
    "listOfContacts(contacts)\n"
   ]
  },
  {
   "cell_type": "code",
   "execution_count": 72,
   "metadata": {},
   "outputs": [
    {
     "name": "stdout",
     "output_type": "stream",
     "text": [
      "2 contacts added\n"
     ]
    }
   ],
   "source": [
    "# New contacts is given as a dictionary\n",
    "# Merge new contacts with existing contacts\n",
    "\n",
    "\n",
    "def importContacts(newContacts):\n",
    "    contacts.update(newContacts)\n",
    "    print(len(newContacts.keys()),\"contacts added\")\n",
    "    return\n",
    "          \n",
    "newContacts={\"name2\":9876543210,\"name3\":6543219087}\n",
    "\n",
    "importContacts(newContacts)\n",
    "    "
   ]
  },
  {
   "cell_type": "code",
   "execution_count": 73,
   "metadata": {},
   "outputs": [
    {
     "data": {
      "text/plain": [
       "{'lokesh': '8096763970', 'name2': 9876543210, 'name3': 6543219087}"
      ]
     },
     "execution_count": 73,
     "metadata": {},
     "output_type": "execute_result"
    }
   ],
   "source": [
    "contacts"
   ]
  },
  {
   "cell_type": "code",
   "execution_count": 74,
   "metadata": {},
   "outputs": [
    {
     "name": "stdout",
     "output_type": "stream",
     "text": [
      "lokesh : 8096763970\n",
      "name2 : 9876543210\n",
      "name3 : 6543219087\n"
     ]
    }
   ],
   "source": [
    "listOfContacts(contacts)"
   ]
  },
  {
   "cell_type": "code",
   "execution_count": 80,
   "metadata": {},
   "outputs": [
    {
     "name": "stdout",
     "output_type": "stream",
     "text": [
      "lokesh number removed\n"
     ]
    },
    {
     "data": {
      "text/plain": [
       "{'name2': 9876543210, 'name3': 6543219087}"
      ]
     },
     "execution_count": 80,
     "metadata": {},
     "output_type": "execute_result"
    }
   ],
   "source": [
    "def delete(name):\n",
    "    if name not in contacts:\n",
    "        print(\"%s is not exist\"%name)\n",
    "    else:\n",
    "        contacts.pop(name)\n",
    "        print(\"%s number removed\" %name)\n",
    "        \n",
    "delete(\"lokesh\")\n",
    "contacts"
   ]
  },
  {
   "cell_type": "code",
   "execution_count": null,
   "metadata": {},
   "outputs": [],
   "source": []
  },
  {
   "cell_type": "markdown",
   "metadata": {},
   "source": [
    "# Packages and Modules\n",
    "\n",
    "- Package  Collection of modules(python file.py) and sub-packages\n",
    "\n",
    "- Module is a single python file containing functions\n",
    "- package->Sub package->Modules-> Functions\n"
   ]
  },
  {
   "cell_type": "code",
   "execution_count": 84,
   "metadata": {},
   "outputs": [
    {
     "data": {
      "text/plain": [
       "145"
      ]
     },
     "execution_count": 84,
     "metadata": {},
     "output_type": "execute_result"
    }
   ],
   "source": [
    "#from math import floor  # another way for importing a function\n",
    "from math import floor as fl #renaming a function using import\n",
    "#import math #importing a package\n",
    "\n",
    "fl(145.987)"
   ]
  },
  {
   "cell_type": "code",
   "execution_count": 89,
   "metadata": {},
   "outputs": [
    {
     "name": "stdout",
     "output_type": "stream",
     "text": [
      "37 96 5 59 57 33 79 69 83 71 "
     ]
    }
   ],
   "source": [
    "# Function to generate  N random numbers \n",
    "\n",
    "import random\n",
    "\n",
    "def generateNRandomNumber(n,lb,ub):\n",
    "    for i in range(0,n):\n",
    "           print(random.randint(lb,ub),end=\" \")\n",
    "        \n",
    "generateNRandomNumber(10,0,100)"
   ]
  },
  {
   "cell_type": "code",
   "execution_count": null,
   "metadata": {},
   "outputs": [],
   "source": []
  },
  {
   "cell_type": "code",
   "execution_count": 4,
   "metadata": {},
   "outputs": [
    {
     "data": {
      "text/plain": [
       "2"
      ]
     },
     "execution_count": 4,
     "metadata": {},
     "output_type": "execute_result"
    }
   ],
   "source": [
    "from Packages import numerical\n",
    "\n",
    "numerical.numberOfPrimeFactors(28)"
   ]
  },
  {
   "cell_type": "code",
   "execution_count": 6,
   "metadata": {},
   "outputs": [
    {
     "data": {
      "text/plain": [
       "False"
      ]
     },
     "execution_count": 6,
     "metadata": {},
     "output_type": "execute_result"
    }
   ],
   "source": [
    "from Packages.numerical import isPrime\n",
    "\n",
    "isPrime(99)"
   ]
  },
  {
   "cell_type": "code",
   "execution_count": null,
   "metadata": {},
   "outputs": [],
   "source": []
  }
 ],
 "metadata": {
  "kernelspec": {
   "display_name": "Python 3",
   "language": "python",
   "name": "python3"
  },
  "language_info": {
   "codemirror_mode": {
    "name": "ipython",
    "version": 3
   },
   "file_extension": ".py",
   "mimetype": "text/x-python",
   "name": "python",
   "nbconvert_exporter": "python",
   "pygments_lexer": "ipython3",
   "version": "3.7.3"
  }
 },
 "nbformat": 4,
 "nbformat_minor": 2
}
