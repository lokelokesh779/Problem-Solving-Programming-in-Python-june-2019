{
 "cells": [
  {
   "cell_type": "code",
   "execution_count": 8,
   "metadata": {},
   "outputs": [
    {
     "name": "stdout",
     "output_type": "stream",
     "text": [
      "contacts lokesh is added\n"
     ]
    }
   ],
   "source": [
    "# Add contacts in a dictionary\n",
    "\n",
    "contacts={}\n",
    "def addContacts(name,phone):\n",
    "    if name not in contacts:\n",
    "        contacts[name]= phone\n",
    "        print(\"contacts %s is added\"%name)\n",
    "    else:\n",
    "        print(\"already %s exists\"%name)\n",
    "    return\n",
    "addContacts(\"lokesh\",9052142408)"
   ]
  },
  {
   "cell_type": "code",
   "execution_count": 18,
   "metadata": {},
   "outputs": [
    {
     "name": "stdout",
     "output_type": "stream",
     "text": [
      "lokesh : 9052142408\n"
     ]
    }
   ],
   "source": [
    "def searchContacts(name): \n",
    "    if name in contacts:\n",
    "        print(name,':',contacts[name])\n",
    "    else:\n",
    "        print(\"%s does not exists\"%name)\n",
    "    return\n",
    "searchContacts(\"lokesh\")\n",
    "    \n"
   ]
  },
  {
   "cell_type": "code",
   "execution_count": 54,
   "metadata": {},
   "outputs": [
    {
     "name": "stdout",
     "output_type": "stream",
     "text": [
      "contacts sai is added\n"
     ]
    }
   ],
   "source": [
    "addContacts(\"sai\",7989007235)"
   ]
  },
  {
   "cell_type": "code",
   "execution_count": 56,
   "metadata": {},
   "outputs": [
    {
     "data": {
      "text/plain": [
       "dict_items([('lokesh', 9052142408), ('vinay', 9666989835), ('sai', 9550882754)])"
      ]
     },
     "execution_count": 56,
     "metadata": {},
     "output_type": "execute_result"
    }
   ],
   "source": [
    "contacts.items()"
   ]
  },
  {
   "cell_type": "code",
   "execution_count": 45,
   "metadata": {},
   "outputs": [
    {
     "name": "stdout",
     "output_type": "stream",
     "text": [
      "sai number removed\n"
     ]
    }
   ],
   "source": [
    "# Function to remove contact\n",
    "\n",
    "#contacts.pop(\"vinay\")\n",
    "#print(\"contact is deleted\")\n",
    "\n",
    "def delete(name):\n",
    "    if name not in contacts:\n",
    "        print(\"%s is not exist\"%name)\n",
    "    else:\n",
    "        contacts.pop(name)\n",
    "        print(\"%s number removed\" %name)\n",
    "      \n",
    "delete(\"sai\")\n"
   ]
  },
  {
   "cell_type": "code",
   "execution_count": 55,
   "metadata": {},
   "outputs": [
    {
     "name": "stdout",
     "output_type": "stream",
     "text": [
      "contact is modified\n"
     ]
    }
   ],
   "source": [
    "# Function to modify contact\n",
    "\n",
    "def editContact(name,phone):\n",
    "    if name not in contacts:\n",
    "        print(\"%s is not exist\"%name)\n",
    "    else:\n",
    "        contacts[name]=phone\n",
    "        print(\"contact is modified\")\n",
    "        \n",
    "editContact(\"sai\",9550882754)\n"
   ]
  },
  {
   "cell_type": "code",
   "execution_count": 60,
   "metadata": {},
   "outputs": [
    {
     "name": "stdout",
     "output_type": "stream",
     "text": [
      "lokesh : 9052142408\n",
      "vinay : 9666989835\n",
      "sai : 9550882754\n"
     ]
    }
   ],
   "source": [
    "# Function to list all  contacts in a dictionary\n",
    "\n",
    "def listAllContacts(name):\n",
    "    for name in contacts:\n",
    "        print(name,':',contacts[name])\n",
    "    return\n",
    "\n",
    "listAllContacts(contacts)"
   ]
  },
  {
   "cell_type": "code",
   "execution_count": null,
   "metadata": {},
   "outputs": [],
   "source": [
    "# Function to define import contacts\n",
    "\n",
    "def importContacts()"
   ]
  }
 ],
 "metadata": {
  "kernelspec": {
   "display_name": "Python 3",
   "language": "python",
   "name": "python3"
  },
  "language_info": {
   "codemirror_mode": {
    "name": "ipython",
    "version": 3
   },
   "file_extension": ".py",
   "mimetype": "text/x-python",
   "name": "python",
   "nbconvert_exporter": "python",
   "pygments_lexer": "ipython3",
   "version": "3.7.3"
  }
 },
 "nbformat": 4,
 "nbformat_minor": 2
}
